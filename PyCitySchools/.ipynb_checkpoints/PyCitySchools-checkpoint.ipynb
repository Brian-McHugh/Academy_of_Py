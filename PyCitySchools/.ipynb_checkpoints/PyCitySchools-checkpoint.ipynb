{
 "cells": [
  {
   "cell_type": "markdown",
   "metadata": {},
   "source": [
    "# PyCity Schools Analysis\n",
    "\n",
    "* As a whole, schools with higher budgets, did not yield better test results. By contrast, schools with higher spending per student (\\\\$645-675) underperformed compared to schools with smaller budgets per student: <\\\\$585.\n",
    "\n",
    "* As a whole, smaller and medium sized schools dramatically out-performed large schools on passing: 89-91% passing vs 67%.\n",
    "\n",
    "* As a whole, charter schools out-performed the public district schools across all metrics. However, more analysis will be required to glean if the effect is due to school practices or the fact that charter schools tend to serve smaller student populations per school. \n",
    "---"
   ]
  },
  {
   "cell_type": "markdown",
   "metadata": {},
   "source": [
    "### Note\n",
    "* Instructions have been included for each segment. You do not have to follow them exactly, but they are included to help you think through the steps."
   ]
  },
  {
   "cell_type": "code",
   "execution_count": 1,
   "metadata": {},
   "outputs": [],
   "source": [
    "# Dependencies and Setup\n",
    "import pandas as pd\n",
    "import numpy as np\n",
    "\n",
    "# File to Load (Remember to Change These)\n",
    "school_data_to_load = \"Resources/schools_complete.csv\"\n",
    "student_data_to_load = \"Resources/students_complete.csv\"\n",
    "\n",
    "# Read School and Student Data File and store into Pandas Data Frames\n",
    "school_data = pd.read_csv(school_data_to_load)\n",
    "student_data = pd.read_csv(student_data_to_load)\n",
    "\n",
    "# Combine the data into a single dataset\n",
    "school_data_complete = pd.merge(student_data, school_data, how=\"left\", on=[\"school_name\", \"school_name\"])"
   ]
  },
  {
   "cell_type": "code",
   "execution_count": 2,
   "metadata": {},
   "outputs": [
    {
     "data": {
      "text/html": [
       "<div>\n",
       "<style scoped>\n",
       "    .dataframe tbody tr th:only-of-type {\n",
       "        vertical-align: middle;\n",
       "    }\n",
       "\n",
       "    .dataframe tbody tr th {\n",
       "        vertical-align: top;\n",
       "    }\n",
       "\n",
       "    .dataframe thead th {\n",
       "        text-align: right;\n",
       "    }\n",
       "</style>\n",
       "<table border=\"1\" class=\"dataframe\">\n",
       "  <thead>\n",
       "    <tr style=\"text-align: right;\">\n",
       "      <th></th>\n",
       "      <th>Student ID</th>\n",
       "      <th>student_name</th>\n",
       "      <th>gender</th>\n",
       "      <th>grade</th>\n",
       "      <th>school_name</th>\n",
       "      <th>reading_score</th>\n",
       "      <th>math_score</th>\n",
       "      <th>School ID</th>\n",
       "      <th>type</th>\n",
       "      <th>size</th>\n",
       "      <th>budget</th>\n",
       "    </tr>\n",
       "  </thead>\n",
       "  <tbody>\n",
       "    <tr>\n",
       "      <th>0</th>\n",
       "      <td>0</td>\n",
       "      <td>Paul Bradley</td>\n",
       "      <td>M</td>\n",
       "      <td>9th</td>\n",
       "      <td>Huang High School</td>\n",
       "      <td>66</td>\n",
       "      <td>79</td>\n",
       "      <td>0</td>\n",
       "      <td>District</td>\n",
       "      <td>2917</td>\n",
       "      <td>1910635</td>\n",
       "    </tr>\n",
       "    <tr>\n",
       "      <th>1</th>\n",
       "      <td>1</td>\n",
       "      <td>Victor Smith</td>\n",
       "      <td>M</td>\n",
       "      <td>12th</td>\n",
       "      <td>Huang High School</td>\n",
       "      <td>94</td>\n",
       "      <td>61</td>\n",
       "      <td>0</td>\n",
       "      <td>District</td>\n",
       "      <td>2917</td>\n",
       "      <td>1910635</td>\n",
       "    </tr>\n",
       "    <tr>\n",
       "      <th>2</th>\n",
       "      <td>2</td>\n",
       "      <td>Kevin Rodriguez</td>\n",
       "      <td>M</td>\n",
       "      <td>12th</td>\n",
       "      <td>Huang High School</td>\n",
       "      <td>90</td>\n",
       "      <td>60</td>\n",
       "      <td>0</td>\n",
       "      <td>District</td>\n",
       "      <td>2917</td>\n",
       "      <td>1910635</td>\n",
       "    </tr>\n",
       "    <tr>\n",
       "      <th>3</th>\n",
       "      <td>3</td>\n",
       "      <td>Dr. Richard Scott</td>\n",
       "      <td>M</td>\n",
       "      <td>12th</td>\n",
       "      <td>Huang High School</td>\n",
       "      <td>67</td>\n",
       "      <td>58</td>\n",
       "      <td>0</td>\n",
       "      <td>District</td>\n",
       "      <td>2917</td>\n",
       "      <td>1910635</td>\n",
       "    </tr>\n",
       "    <tr>\n",
       "      <th>4</th>\n",
       "      <td>4</td>\n",
       "      <td>Bonnie Ray</td>\n",
       "      <td>F</td>\n",
       "      <td>9th</td>\n",
       "      <td>Huang High School</td>\n",
       "      <td>97</td>\n",
       "      <td>84</td>\n",
       "      <td>0</td>\n",
       "      <td>District</td>\n",
       "      <td>2917</td>\n",
       "      <td>1910635</td>\n",
       "    </tr>\n",
       "    <tr>\n",
       "      <th>5</th>\n",
       "      <td>5</td>\n",
       "      <td>Bryan Miranda</td>\n",
       "      <td>M</td>\n",
       "      <td>9th</td>\n",
       "      <td>Huang High School</td>\n",
       "      <td>94</td>\n",
       "      <td>94</td>\n",
       "      <td>0</td>\n",
       "      <td>District</td>\n",
       "      <td>2917</td>\n",
       "      <td>1910635</td>\n",
       "    </tr>\n",
       "    <tr>\n",
       "      <th>6</th>\n",
       "      <td>6</td>\n",
       "      <td>Sheena Carter</td>\n",
       "      <td>F</td>\n",
       "      <td>11th</td>\n",
       "      <td>Huang High School</td>\n",
       "      <td>82</td>\n",
       "      <td>80</td>\n",
       "      <td>0</td>\n",
       "      <td>District</td>\n",
       "      <td>2917</td>\n",
       "      <td>1910635</td>\n",
       "    </tr>\n",
       "    <tr>\n",
       "      <th>7</th>\n",
       "      <td>7</td>\n",
       "      <td>Nicole Baker</td>\n",
       "      <td>F</td>\n",
       "      <td>12th</td>\n",
       "      <td>Huang High School</td>\n",
       "      <td>96</td>\n",
       "      <td>69</td>\n",
       "      <td>0</td>\n",
       "      <td>District</td>\n",
       "      <td>2917</td>\n",
       "      <td>1910635</td>\n",
       "    </tr>\n",
       "    <tr>\n",
       "      <th>8</th>\n",
       "      <td>8</td>\n",
       "      <td>Michael Roth</td>\n",
       "      <td>M</td>\n",
       "      <td>10th</td>\n",
       "      <td>Huang High School</td>\n",
       "      <td>95</td>\n",
       "      <td>87</td>\n",
       "      <td>0</td>\n",
       "      <td>District</td>\n",
       "      <td>2917</td>\n",
       "      <td>1910635</td>\n",
       "    </tr>\n",
       "    <tr>\n",
       "      <th>9</th>\n",
       "      <td>9</td>\n",
       "      <td>Matthew Greene</td>\n",
       "      <td>M</td>\n",
       "      <td>10th</td>\n",
       "      <td>Huang High School</td>\n",
       "      <td>96</td>\n",
       "      <td>84</td>\n",
       "      <td>0</td>\n",
       "      <td>District</td>\n",
       "      <td>2917</td>\n",
       "      <td>1910635</td>\n",
       "    </tr>\n",
       "  </tbody>\n",
       "</table>\n",
       "</div>"
      ],
      "text/plain": [
       "   Student ID       student_name gender grade        school_name  \\\n",
       "0           0       Paul Bradley      M   9th  Huang High School   \n",
       "1           1       Victor Smith      M  12th  Huang High School   \n",
       "2           2    Kevin Rodriguez      M  12th  Huang High School   \n",
       "3           3  Dr. Richard Scott      M  12th  Huang High School   \n",
       "4           4         Bonnie Ray      F   9th  Huang High School   \n",
       "5           5      Bryan Miranda      M   9th  Huang High School   \n",
       "6           6      Sheena Carter      F  11th  Huang High School   \n",
       "7           7       Nicole Baker      F  12th  Huang High School   \n",
       "8           8       Michael Roth      M  10th  Huang High School   \n",
       "9           9     Matthew Greene      M  10th  Huang High School   \n",
       "\n",
       "   reading_score  math_score  School ID      type  size   budget  \n",
       "0             66          79          0  District  2917  1910635  \n",
       "1             94          61          0  District  2917  1910635  \n",
       "2             90          60          0  District  2917  1910635  \n",
       "3             67          58          0  District  2917  1910635  \n",
       "4             97          84          0  District  2917  1910635  \n",
       "5             94          94          0  District  2917  1910635  \n",
       "6             82          80          0  District  2917  1910635  \n",
       "7             96          69          0  District  2917  1910635  \n",
       "8             95          87          0  District  2917  1910635  \n",
       "9             96          84          0  District  2917  1910635  "
      ]
     },
     "execution_count": 2,
     "metadata": {},
     "output_type": "execute_result"
    }
   ],
   "source": [
    "school_data_complete.head(10)"
   ]
  },
  {
   "cell_type": "code",
   "execution_count": 3,
   "metadata": {},
   "outputs": [
    {
     "name": "stdout",
     "output_type": "stream",
     "text": [
      "<class 'pandas.core.frame.DataFrame'>\n",
      "Int64Index: 39170 entries, 0 to 39169\n",
      "Data columns (total 11 columns):\n",
      "Student ID       39170 non-null int64\n",
      "student_name     39170 non-null object\n",
      "gender           39170 non-null object\n",
      "grade            39170 non-null object\n",
      "school_name      39170 non-null object\n",
      "reading_score    39170 non-null int64\n",
      "math_score       39170 non-null int64\n",
      "School ID        39170 non-null int64\n",
      "type             39170 non-null object\n",
      "size             39170 non-null int64\n",
      "budget           39170 non-null int64\n",
      "dtypes: int64(6), object(5)\n",
      "memory usage: 3.6+ MB\n"
     ]
    }
   ],
   "source": [
    "school_data_complete.info()"
   ]
  },
  {
   "cell_type": "code",
   "execution_count": 4,
   "metadata": {},
   "outputs": [
    {
     "data": {
      "text/html": [
       "<div>\n",
       "<style scoped>\n",
       "    .dataframe tbody tr th:only-of-type {\n",
       "        vertical-align: middle;\n",
       "    }\n",
       "\n",
       "    .dataframe tbody tr th {\n",
       "        vertical-align: top;\n",
       "    }\n",
       "\n",
       "    .dataframe thead th {\n",
       "        text-align: right;\n",
       "    }\n",
       "</style>\n",
       "<table border=\"1\" class=\"dataframe\">\n",
       "  <thead>\n",
       "    <tr style=\"text-align: right;\">\n",
       "      <th></th>\n",
       "      <th>Student ID</th>\n",
       "      <th>reading_score</th>\n",
       "      <th>math_score</th>\n",
       "      <th>School ID</th>\n",
       "      <th>size</th>\n",
       "      <th>budget</th>\n",
       "    </tr>\n",
       "  </thead>\n",
       "  <tbody>\n",
       "    <tr>\n",
       "      <th>count</th>\n",
       "      <td>39170.000000</td>\n",
       "      <td>39170.00000</td>\n",
       "      <td>39170.000000</td>\n",
       "      <td>39170.000000</td>\n",
       "      <td>39170.000000</td>\n",
       "      <td>3.917000e+04</td>\n",
       "    </tr>\n",
       "    <tr>\n",
       "      <th>mean</th>\n",
       "      <td>19584.500000</td>\n",
       "      <td>81.87784</td>\n",
       "      <td>78.985371</td>\n",
       "      <td>6.978172</td>\n",
       "      <td>3332.957110</td>\n",
       "      <td>2.117241e+06</td>\n",
       "    </tr>\n",
       "    <tr>\n",
       "      <th>std</th>\n",
       "      <td>11307.549359</td>\n",
       "      <td>10.23958</td>\n",
       "      <td>12.309968</td>\n",
       "      <td>4.444329</td>\n",
       "      <td>1323.914069</td>\n",
       "      <td>8.749987e+05</td>\n",
       "    </tr>\n",
       "    <tr>\n",
       "      <th>min</th>\n",
       "      <td>0.000000</td>\n",
       "      <td>63.00000</td>\n",
       "      <td>55.000000</td>\n",
       "      <td>0.000000</td>\n",
       "      <td>427.000000</td>\n",
       "      <td>2.480870e+05</td>\n",
       "    </tr>\n",
       "    <tr>\n",
       "      <th>25%</th>\n",
       "      <td>9792.250000</td>\n",
       "      <td>73.00000</td>\n",
       "      <td>69.000000</td>\n",
       "      <td>3.000000</td>\n",
       "      <td>1858.000000</td>\n",
       "      <td>1.081356e+06</td>\n",
       "    </tr>\n",
       "    <tr>\n",
       "      <th>50%</th>\n",
       "      <td>19584.500000</td>\n",
       "      <td>82.00000</td>\n",
       "      <td>79.000000</td>\n",
       "      <td>7.000000</td>\n",
       "      <td>2949.000000</td>\n",
       "      <td>1.910635e+06</td>\n",
       "    </tr>\n",
       "    <tr>\n",
       "      <th>75%</th>\n",
       "      <td>29376.750000</td>\n",
       "      <td>91.00000</td>\n",
       "      <td>89.000000</td>\n",
       "      <td>11.000000</td>\n",
       "      <td>4635.000000</td>\n",
       "      <td>3.022020e+06</td>\n",
       "    </tr>\n",
       "    <tr>\n",
       "      <th>max</th>\n",
       "      <td>39169.000000</td>\n",
       "      <td>99.00000</td>\n",
       "      <td>99.000000</td>\n",
       "      <td>14.000000</td>\n",
       "      <td>4976.000000</td>\n",
       "      <td>3.124928e+06</td>\n",
       "    </tr>\n",
       "  </tbody>\n",
       "</table>\n",
       "</div>"
      ],
      "text/plain": [
       "         Student ID  reading_score    math_score     School ID          size  \\\n",
       "count  39170.000000    39170.00000  39170.000000  39170.000000  39170.000000   \n",
       "mean   19584.500000       81.87784     78.985371      6.978172   3332.957110   \n",
       "std    11307.549359       10.23958     12.309968      4.444329   1323.914069   \n",
       "min        0.000000       63.00000     55.000000      0.000000    427.000000   \n",
       "25%     9792.250000       73.00000     69.000000      3.000000   1858.000000   \n",
       "50%    19584.500000       82.00000     79.000000      7.000000   2949.000000   \n",
       "75%    29376.750000       91.00000     89.000000     11.000000   4635.000000   \n",
       "max    39169.000000       99.00000     99.000000     14.000000   4976.000000   \n",
       "\n",
       "             budget  \n",
       "count  3.917000e+04  \n",
       "mean   2.117241e+06  \n",
       "std    8.749987e+05  \n",
       "min    2.480870e+05  \n",
       "25%    1.081356e+06  \n",
       "50%    1.910635e+06  \n",
       "75%    3.022020e+06  \n",
       "max    3.124928e+06  "
      ]
     },
     "execution_count": 4,
     "metadata": {},
     "output_type": "execute_result"
    }
   ],
   "source": [
    "school_data_complete.describe()"
   ]
  },
  {
   "cell_type": "markdown",
   "metadata": {},
   "source": [
    "## District Summary\n",
    "\n",
    "* Calculate the total number of schools\n",
    "\n",
    "* Calculate the total number of students\n",
    "\n",
    "* Calculate the total budget\n",
    "\n",
    "* Calculate the average math score \n",
    "\n",
    "* Calculate the average reading score\n",
    "\n",
    "* Calculate the percentage of students with a passing math score (70 or greater)\n",
    "\n",
    "* Calculate the percentage of students with a passing reading score (70 or greater)\n",
    "\n",
    "* Calculate the overall passing rate (overall average score)\n",
    "\n",
    "* Create a dataframe to hold the above results\n",
    "\n",
    "* Optional: give the displayed data cleaner formatting"
   ]
  },
  {
   "cell_type": "code",
   "execution_count": 5,
   "metadata": {},
   "outputs": [],
   "source": [
    "# Create a list of the individual schools\n",
    "schools_list = school_data_complete[\"school_name\"].unique()\n",
    "#schools_list"
   ]
  },
  {
   "cell_type": "code",
   "execution_count": 6,
   "metadata": {},
   "outputs": [],
   "source": [
    "# Calculate the total number of schools\n",
    "total_schools = school_data_complete[\"school_name\"].nunique()\n",
    "#total_schools"
   ]
  },
  {
   "cell_type": "code",
   "execution_count": 7,
   "metadata": {},
   "outputs": [],
   "source": [
    "# Check for duplicate records\n",
    "#sum(school_data_complete.duplicated())"
   ]
  },
  {
   "cell_type": "code",
   "execution_count": 8,
   "metadata": {},
   "outputs": [],
   "source": [
    "# Calculate the total number of students\n",
    "total_students = school_data_complete.shape[0]\n",
    "#total_students"
   ]
  },
  {
   "cell_type": "code",
   "execution_count": 9,
   "metadata": {},
   "outputs": [],
   "source": [
    "# Calculate the total budget for all schools combined\n",
    "budgets_list = school_data_complete[\"budget\"].unique()\n",
    "total_budget = budgets_list.sum()\n",
    "#total_budget"
   ]
  },
  {
   "cell_type": "code",
   "execution_count": 10,
   "metadata": {},
   "outputs": [],
   "source": [
    "# Calculate the average math score\n",
    "avg_math = school_data_complete[\"math_score\"].mean()\n",
    "#avg_math"
   ]
  },
  {
   "cell_type": "code",
   "execution_count": 11,
   "metadata": {},
   "outputs": [],
   "source": [
    "# Calculate the average reading score\n",
    "avg_reading = school_data_complete[\"reading_score\"].mean()\n",
    "#avg_reading"
   ]
  },
  {
   "cell_type": "code",
   "execution_count": 12,
   "metadata": {},
   "outputs": [],
   "source": [
    "# Calculate the overall average score, i.e., (avg. math score + avg. reading score)/2\n",
    "overall_avg = (school_data_complete[\"math_score\"].sum()+school_data_complete[\"reading_score\"].sum()) / (total_students*2)\n",
    "#overall_avg"
   ]
  },
  {
   "cell_type": "code",
   "execution_count": 13,
   "metadata": {},
   "outputs": [],
   "source": [
    "# Calculate the percentage of students with a passing math score (70 or greater)\n",
    "passing_math_df = school_data_complete[school_data_complete[\"math_score\"] >= 70]\n",
    "passing_math = (passing_math_df.shape[0]/total_students) * 100\n",
    "#passing_math"
   ]
  },
  {
   "cell_type": "code",
   "execution_count": 14,
   "metadata": {},
   "outputs": [],
   "source": [
    "# Calculate the percentage of students with a passing reading score (70 or greater)\n",
    "passing_reading_df = school_data_complete[school_data_complete[\"reading_score\"] >= 70]\n",
    "passing_reading = (passing_reading_df.shape[0]/total_students) * 100\n",
    "#passing_reading"
   ]
  },
  {
   "cell_type": "code",
   "execution_count": 15,
   "metadata": {},
   "outputs": [],
   "source": [
    "# Calculate the average of the percentage of students passing math and the percentage of students passing reading\n",
    "avg_passing = (passing_math + passing_reading) / 2\n",
    "#avg_passing"
   ]
  },
  {
   "cell_type": "code",
   "execution_count": 16,
   "metadata": {},
   "outputs": [],
   "source": [
    "# Create a dataframe to hold the above results\n",
    "dist_summary = pd.DataFrame({\n",
    "    \"Total Schools\" : [total_schools],\n",
    "    \"Total Students\" : [total_students],\n",
    "    \"Total Budget\" : [total_budget],\n",
    "    \"Average Math Score\" : [avg_math],\n",
    "    \"Average Reading Score\" : [avg_reading],\n",
    "    \"% Passing Math\" : [passing_math],\n",
    "    \"% Passing Reading\" : [passing_reading],\n",
    "    \"% Overall Passing Rate\" : [avg_passing]\n",
    "})"
   ]
  },
  {
   "cell_type": "code",
   "execution_count": 17,
   "metadata": {},
   "outputs": [],
   "source": [
    "#dist_summary.info()"
   ]
  },
  {
   "cell_type": "code",
   "execution_count": 18,
   "metadata": {},
   "outputs": [],
   "source": [
    "# Save a different copy for formatting\n",
    "district = dist_summary[[\n",
    "    \"Total Schools\",\n",
    "    \"Total Students\",\n",
    "    \"Total Budget\",\n",
    "    \"Average Math Score\",\n",
    "    \"Average Reading Score\",\n",
    "    \"% Passing Math\",\n",
    "    \"% Passing Reading\",\n",
    "    \"% Overall Passing Rate\"]]\n",
    "#district"
   ]
  },
  {
   "cell_type": "code",
   "execution_count": 19,
   "metadata": {},
   "outputs": [
    {
     "data": {
      "text/html": [
       "<style  type=\"text/css\" >\n",
       "</style><table id=\"T_b9eee222_c600_11e9_b7e0_a45e60b99ee9\" ><thead>    <tr>        <th class=\"blank level0\" ></th>        <th class=\"col_heading level0 col0\" >Total Schools</th>        <th class=\"col_heading level0 col1\" >Total Students</th>        <th class=\"col_heading level0 col2\" >Total Budget</th>        <th class=\"col_heading level0 col3\" >Average Math Score</th>        <th class=\"col_heading level0 col4\" >Average Reading Score</th>        <th class=\"col_heading level0 col5\" >% Passing Math</th>        <th class=\"col_heading level0 col6\" >% Passing Reading</th>        <th class=\"col_heading level0 col7\" >% Overall Passing Rate</th>    </tr></thead><tbody>\n",
       "                <tr>\n",
       "                        <th id=\"T_b9eee222_c600_11e9_b7e0_a45e60b99ee9level0_row0\" class=\"row_heading level0 row0\" >0</th>\n",
       "                        <td id=\"T_b9eee222_c600_11e9_b7e0_a45e60b99ee9row0_col0\" class=\"data row0 col0\" >15</td>\n",
       "                        <td id=\"T_b9eee222_c600_11e9_b7e0_a45e60b99ee9row0_col1\" class=\"data row0 col1\" >39,170</td>\n",
       "                        <td id=\"T_b9eee222_c600_11e9_b7e0_a45e60b99ee9row0_col2\" class=\"data row0 col2\" >$24,649,428</td>\n",
       "                        <td id=\"T_b9eee222_c600_11e9_b7e0_a45e60b99ee9row0_col3\" class=\"data row0 col3\" >78.99</td>\n",
       "                        <td id=\"T_b9eee222_c600_11e9_b7e0_a45e60b99ee9row0_col4\" class=\"data row0 col4\" >81.88</td>\n",
       "                        <td id=\"T_b9eee222_c600_11e9_b7e0_a45e60b99ee9row0_col5\" class=\"data row0 col5\" >74.98</td>\n",
       "                        <td id=\"T_b9eee222_c600_11e9_b7e0_a45e60b99ee9row0_col6\" class=\"data row0 col6\" >85.81</td>\n",
       "                        <td id=\"T_b9eee222_c600_11e9_b7e0_a45e60b99ee9row0_col7\" class=\"data row0 col7\" >80.39</td>\n",
       "            </tr>\n",
       "    </tbody></table>"
      ],
      "text/plain": [
       "<pandas.io.formats.style.Styler at 0x11c848cf8>"
      ]
     },
     "execution_count": 19,
     "metadata": {},
     "output_type": "execute_result"
    }
   ],
   "source": [
    "# Apply proper formatting\n",
    "district.style.format({\n",
    "    \"Total Students\": \"{:,}\",\n",
    "    \"Total Budget\": \"${:,.0f}\",\n",
    "    \"Average Math Score\": \"{:.2f}\",\n",
    "    \"Average Reading Score\": \"{:.2f}\",\n",
    "    \"% Passing Math\": \"{:.2f}\",\n",
    "    \"% Passing Reading\": \"{:.2f}\",\n",
    "    \"% Overall Passing Rate\": \"{:.2f}\"\n",
    "})                      "
   ]
  },
  {
   "cell_type": "code",
   "execution_count": 20,
   "metadata": {},
   "outputs": [
    {
     "name": "stdout",
     "output_type": "stream",
     "text": [
      "<class 'pandas.core.frame.DataFrame'>\n",
      "RangeIndex: 1 entries, 0 to 0\n",
      "Data columns (total 8 columns):\n",
      "Total Schools             1 non-null int64\n",
      "Total Students            1 non-null int64\n",
      "Total Budget              1 non-null int64\n",
      "Average Math Score        1 non-null float64\n",
      "Average Reading Score     1 non-null float64\n",
      "% Passing Math            1 non-null float64\n",
      "% Passing Reading         1 non-null float64\n",
      "% Overall Passing Rate    1 non-null float64\n",
      "dtypes: float64(5), int64(3)\n",
      "memory usage: 144.0 bytes\n"
     ]
    }
   ],
   "source": [
    "dist_summary.info()"
   ]
  },
  {
   "cell_type": "markdown",
   "metadata": {},
   "source": [
    "## School Summary"
   ]
  },
  {
   "cell_type": "markdown",
   "metadata": {},
   "source": [
    "* Create an overview table that summarizes key metrics about each school, including:\n",
    "  * School Name\n",
    "  * School Type\n",
    "  * Total Students\n",
    "  * Total School Budget\n",
    "  * Per Student Budget\n",
    "  * Average Math Score\n",
    "  * Average Reading Score\n",
    "  * Average Overall Score\n",
    "  * Percent Passing Math\n",
    "  * Percent Passing Reading\n",
    "  * Average of Percent Passing Math and Percent Passing Reading\n",
    "  \n",
    "* Create a dataframe to hold the above results"
   ]
  },
  {
   "cell_type": "code",
   "execution_count": 21,
   "metadata": {},
   "outputs": [],
   "source": [
    "# School types\n",
    "school_types = school_data.set_index([\"school_name\"])[\"type\"]\n",
    "#school_types"
   ]
  },
  {
   "cell_type": "code",
   "execution_count": 22,
   "metadata": {},
   "outputs": [],
   "source": [
    "# Number of students per school\n",
    "headcounts = school_data.set_index([\"school_name\"])[\"size\"]\n",
    "#headcounts"
   ]
  },
  {
   "cell_type": "code",
   "execution_count": 23,
   "metadata": {},
   "outputs": [],
   "source": [
    "# Budgets for each school\n",
    "budgets = school_data.set_index([\"school_name\"])[\"budget\"]\n",
    "#budgets"
   ]
  },
  {
   "cell_type": "code",
   "execution_count": 24,
   "metadata": {},
   "outputs": [],
   "source": [
    "# Budget per student for each school\n",
    "per_student_budget = budgets / headcounts\n",
    "#per_student_budget.dtype"
   ]
  },
  {
   "cell_type": "code",
   "execution_count": 25,
   "metadata": {},
   "outputs": [],
   "source": [
    "# Average scores per school\n",
    "school_math_avg = school_data_complete.groupby(\"school_name\")[\"math_score\"].mean()\n",
    "#school_math_avg"
   ]
  },
  {
   "cell_type": "code",
   "execution_count": 26,
   "metadata": {},
   "outputs": [],
   "source": [
    "# Average scores per school\n",
    "school_reading_avg = school_data_complete.groupby(\"school_name\")[\"reading_score\"].mean()\n",
    "#school_reading_avg"
   ]
  },
  {
   "cell_type": "code",
   "execution_count": 27,
   "metadata": {},
   "outputs": [],
   "source": [
    "# Percentage of students passing math at each school\n",
    "passing_math = school_data_complete[school_data_complete[\"math_score\"] >= 70].groupby(\"school_name\")[\"math_score\"].count()\n",
    "perc_passing_math = passing_math/headcounts * 100\n",
    "#perc_passing_math"
   ]
  },
  {
   "cell_type": "code",
   "execution_count": 28,
   "metadata": {},
   "outputs": [],
   "source": [
    "# Percentage of students passing reading at each school\n",
    "passing_reading = school_data_complete[school_data_complete[\"reading_score\"] >= 70].groupby(\"school_name\")[\"reading_score\"].count()\n",
    "perc_passing_reading = passing_reading/headcounts * 100\n",
    "#perc_passing_reading"
   ]
  },
  {
   "cell_type": "code",
   "execution_count": 29,
   "metadata": {},
   "outputs": [],
   "source": [
    "# Overall passing\n",
    "perc_overall_passing = (passing_math+passing_reading) / (headcounts*2) * 100\n",
    "#perc_overall_passing"
   ]
  },
  {
   "cell_type": "code",
   "execution_count": 53,
   "metadata": {},
   "outputs": [],
   "source": [
    "school_breakdown = pd.DataFrame({\n",
    "     \"School Type\": school_types,\n",
    "     \"Total Students\": headcounts,\n",
    "     \"Total School Budget\": budgets,\n",
    "     \"Per Student Budget\": per_student_budget,\n",
    "     \"Average Math Score\": school_math_avg,\n",
    "     \"Average Reading Score\": school_reading_avg,\n",
    "     \"% Passing Math\": perc_passing_math,\n",
    "     \"% Passing Reading\": perc_passing_reading,\n",
    "     \"% Overall Passing Rate\": perc_overall_passing\n",
    "})\n",
    "#school_breakdown.head()"
   ]
  },
  {
   "cell_type": "markdown",
   "metadata": {},
   "source": [
    "## Top Performing Schools (By Passing Rate)"
   ]
  },
  {
   "cell_type": "markdown",
   "metadata": {},
   "source": [
    "* Sort and display the top five schools in overall passing rate"
   ]
  },
  {
   "cell_type": "code",
   "execution_count": 31,
   "metadata": {},
   "outputs": [
    {
     "data": {
      "text/html": [
       "<div>\n",
       "<style scoped>\n",
       "    .dataframe tbody tr th:only-of-type {\n",
       "        vertical-align: middle;\n",
       "    }\n",
       "\n",
       "    .dataframe tbody tr th {\n",
       "        vertical-align: top;\n",
       "    }\n",
       "\n",
       "    .dataframe thead th {\n",
       "        text-align: right;\n",
       "    }\n",
       "</style>\n",
       "<table border=\"1\" class=\"dataframe\">\n",
       "  <thead>\n",
       "    <tr style=\"text-align: right;\">\n",
       "      <th></th>\n",
       "      <th>School Type</th>\n",
       "      <th>Total Students</th>\n",
       "      <th>Total School Budget</th>\n",
       "      <th>Per Student Budget</th>\n",
       "      <th>Average Math Score</th>\n",
       "      <th>Average Reading Score</th>\n",
       "      <th>% Passing Math</th>\n",
       "      <th>% Passing Reading</th>\n",
       "      <th>% Overall Passing Rate</th>\n",
       "    </tr>\n",
       "  </thead>\n",
       "  <tbody>\n",
       "    <tr>\n",
       "      <th>Cabrera High School</th>\n",
       "      <td>Charter</td>\n",
       "      <td>1858</td>\n",
       "      <td>1081356</td>\n",
       "      <td>582.0</td>\n",
       "      <td>83.061895</td>\n",
       "      <td>83.975780</td>\n",
       "      <td>94.133477</td>\n",
       "      <td>97.039828</td>\n",
       "      <td>95.586652</td>\n",
       "    </tr>\n",
       "    <tr>\n",
       "      <th>Thomas High School</th>\n",
       "      <td>Charter</td>\n",
       "      <td>1635</td>\n",
       "      <td>1043130</td>\n",
       "      <td>638.0</td>\n",
       "      <td>83.418349</td>\n",
       "      <td>83.848930</td>\n",
       "      <td>93.272171</td>\n",
       "      <td>97.308869</td>\n",
       "      <td>95.290520</td>\n",
       "    </tr>\n",
       "    <tr>\n",
       "      <th>Pena High School</th>\n",
       "      <td>Charter</td>\n",
       "      <td>962</td>\n",
       "      <td>585858</td>\n",
       "      <td>609.0</td>\n",
       "      <td>83.839917</td>\n",
       "      <td>84.044699</td>\n",
       "      <td>94.594595</td>\n",
       "      <td>95.945946</td>\n",
       "      <td>95.270270</td>\n",
       "    </tr>\n",
       "    <tr>\n",
       "      <th>Griffin High School</th>\n",
       "      <td>Charter</td>\n",
       "      <td>1468</td>\n",
       "      <td>917500</td>\n",
       "      <td>625.0</td>\n",
       "      <td>83.351499</td>\n",
       "      <td>83.816757</td>\n",
       "      <td>93.392371</td>\n",
       "      <td>97.138965</td>\n",
       "      <td>95.265668</td>\n",
       "    </tr>\n",
       "    <tr>\n",
       "      <th>Wilson High School</th>\n",
       "      <td>Charter</td>\n",
       "      <td>2283</td>\n",
       "      <td>1319574</td>\n",
       "      <td>578.0</td>\n",
       "      <td>83.274201</td>\n",
       "      <td>83.989488</td>\n",
       "      <td>93.867718</td>\n",
       "      <td>96.539641</td>\n",
       "      <td>95.203679</td>\n",
       "    </tr>\n",
       "  </tbody>\n",
       "</table>\n",
       "</div>"
      ],
      "text/plain": [
       "                    School Type  Total Students  Total School Budget  \\\n",
       "Cabrera High School     Charter            1858              1081356   \n",
       "Thomas High School      Charter            1635              1043130   \n",
       "Pena High School        Charter             962               585858   \n",
       "Griffin High School     Charter            1468               917500   \n",
       "Wilson High School      Charter            2283              1319574   \n",
       "\n",
       "                     Per Student Budget  Average Math Score  \\\n",
       "Cabrera High School               582.0           83.061895   \n",
       "Thomas High School                638.0           83.418349   \n",
       "Pena High School                  609.0           83.839917   \n",
       "Griffin High School               625.0           83.351499   \n",
       "Wilson High School                578.0           83.274201   \n",
       "\n",
       "                     Average Reading Score  % Passing Math  % Passing Reading  \\\n",
       "Cabrera High School              83.975780       94.133477          97.039828   \n",
       "Thomas High School               83.848930       93.272171          97.308869   \n",
       "Pena High School                 84.044699       94.594595          95.945946   \n",
       "Griffin High School              83.816757       93.392371          97.138965   \n",
       "Wilson High School               83.989488       93.867718          96.539641   \n",
       "\n",
       "                     % Overall Passing Rate  \n",
       "Cabrera High School               95.586652  \n",
       "Thomas High School                95.290520  \n",
       "Pena High School                  95.270270  \n",
       "Griffin High School               95.265668  \n",
       "Wilson High School                95.203679  "
      ]
     },
     "execution_count": 31,
     "metadata": {},
     "output_type": "execute_result"
    }
   ],
   "source": [
    "best5 = school_breakdown.sort_values(\"% Overall Passing Rate\", ascending=False).head()\n",
    "best5"
   ]
  },
  {
   "cell_type": "code",
   "execution_count": 32,
   "metadata": {},
   "outputs": [],
   "source": [
    "#best5.info()"
   ]
  },
  {
   "cell_type": "markdown",
   "metadata": {},
   "source": [
    "## Bottom Performing Schools (By Passing Rate)"
   ]
  },
  {
   "cell_type": "markdown",
   "metadata": {},
   "source": [
    "* Sort and display the five worst-performing schools"
   ]
  },
  {
   "cell_type": "code",
   "execution_count": 33,
   "metadata": {},
   "outputs": [
    {
     "data": {
      "text/html": [
       "<div>\n",
       "<style scoped>\n",
       "    .dataframe tbody tr th:only-of-type {\n",
       "        vertical-align: middle;\n",
       "    }\n",
       "\n",
       "    .dataframe tbody tr th {\n",
       "        vertical-align: top;\n",
       "    }\n",
       "\n",
       "    .dataframe thead th {\n",
       "        text-align: right;\n",
       "    }\n",
       "</style>\n",
       "<table border=\"1\" class=\"dataframe\">\n",
       "  <thead>\n",
       "    <tr style=\"text-align: right;\">\n",
       "      <th></th>\n",
       "      <th>School Type</th>\n",
       "      <th>Total Students</th>\n",
       "      <th>Total School Budget</th>\n",
       "      <th>Per Student Budget</th>\n",
       "      <th>Average Math Score</th>\n",
       "      <th>Average Reading Score</th>\n",
       "      <th>% Passing Math</th>\n",
       "      <th>% Passing Reading</th>\n",
       "      <th>% Overall Passing Rate</th>\n",
       "    </tr>\n",
       "  </thead>\n",
       "  <tbody>\n",
       "    <tr>\n",
       "      <th>Rodriguez High School</th>\n",
       "      <td>District</td>\n",
       "      <td>3999</td>\n",
       "      <td>2547363</td>\n",
       "      <td>637.0</td>\n",
       "      <td>76.842711</td>\n",
       "      <td>80.744686</td>\n",
       "      <td>66.366592</td>\n",
       "      <td>80.220055</td>\n",
       "      <td>73.293323</td>\n",
       "    </tr>\n",
       "    <tr>\n",
       "      <th>Figueroa High School</th>\n",
       "      <td>District</td>\n",
       "      <td>2949</td>\n",
       "      <td>1884411</td>\n",
       "      <td>639.0</td>\n",
       "      <td>76.711767</td>\n",
       "      <td>81.158020</td>\n",
       "      <td>65.988471</td>\n",
       "      <td>80.739234</td>\n",
       "      <td>73.363852</td>\n",
       "    </tr>\n",
       "    <tr>\n",
       "      <th>Huang High School</th>\n",
       "      <td>District</td>\n",
       "      <td>2917</td>\n",
       "      <td>1910635</td>\n",
       "      <td>655.0</td>\n",
       "      <td>76.629414</td>\n",
       "      <td>81.182722</td>\n",
       "      <td>65.683922</td>\n",
       "      <td>81.316421</td>\n",
       "      <td>73.500171</td>\n",
       "    </tr>\n",
       "    <tr>\n",
       "      <th>Johnson High School</th>\n",
       "      <td>District</td>\n",
       "      <td>4761</td>\n",
       "      <td>3094650</td>\n",
       "      <td>650.0</td>\n",
       "      <td>77.072464</td>\n",
       "      <td>80.966394</td>\n",
       "      <td>66.057551</td>\n",
       "      <td>81.222432</td>\n",
       "      <td>73.639992</td>\n",
       "    </tr>\n",
       "    <tr>\n",
       "      <th>Ford High School</th>\n",
       "      <td>District</td>\n",
       "      <td>2739</td>\n",
       "      <td>1763916</td>\n",
       "      <td>644.0</td>\n",
       "      <td>77.102592</td>\n",
       "      <td>80.746258</td>\n",
       "      <td>68.309602</td>\n",
       "      <td>79.299014</td>\n",
       "      <td>73.804308</td>\n",
       "    </tr>\n",
       "  </tbody>\n",
       "</table>\n",
       "</div>"
      ],
      "text/plain": [
       "                      School Type  Total Students  Total School Budget  \\\n",
       "Rodriguez High School    District            3999              2547363   \n",
       "Figueroa High School     District            2949              1884411   \n",
       "Huang High School        District            2917              1910635   \n",
       "Johnson High School      District            4761              3094650   \n",
       "Ford High School         District            2739              1763916   \n",
       "\n",
       "                       Per Student Budget  Average Math Score  \\\n",
       "Rodriguez High School               637.0           76.842711   \n",
       "Figueroa High School                639.0           76.711767   \n",
       "Huang High School                   655.0           76.629414   \n",
       "Johnson High School                 650.0           77.072464   \n",
       "Ford High School                    644.0           77.102592   \n",
       "\n",
       "                       Average Reading Score  % Passing Math  \\\n",
       "Rodriguez High School              80.744686       66.366592   \n",
       "Figueroa High School               81.158020       65.988471   \n",
       "Huang High School                  81.182722       65.683922   \n",
       "Johnson High School                80.966394       66.057551   \n",
       "Ford High School                   80.746258       68.309602   \n",
       "\n",
       "                       % Passing Reading  % Overall Passing Rate  \n",
       "Rodriguez High School          80.220055               73.293323  \n",
       "Figueroa High School           80.739234               73.363852  \n",
       "Huang High School              81.316421               73.500171  \n",
       "Johnson High School            81.222432               73.639992  \n",
       "Ford High School               79.299014               73.804308  "
      ]
     },
     "execution_count": 33,
     "metadata": {},
     "output_type": "execute_result"
    }
   ],
   "source": [
    "worst5 = school_breakdown.sort_values(\"% Overall Passing Rate\", ascending=True).head()\n",
    "#school_breakdown.sort_values(\"% Overall Passing Rate\", ascending=True).head()\n",
    "#school_breakdown.sort_values(\"% Overall Passing Rate\", ascending=False).tail() #same 5 but wrong order\n",
    "worst5"
   ]
  },
  {
   "cell_type": "code",
   "execution_count": 34,
   "metadata": {},
   "outputs": [],
   "source": [
    "#worst5.info()"
   ]
  },
  {
   "cell_type": "markdown",
   "metadata": {
    "collapsed": true
   },
   "source": [
    "## Math Scores by Grade"
   ]
  },
  {
   "cell_type": "markdown",
   "metadata": {},
   "source": [
    "* Create a table that lists the average Math Score for students of each grade level (9th, 10th, 11th, 12th) at each school.\n",
    "\n",
    "  * Create a pandas series for each grade. Hint: use a conditional statement.\n",
    "  \n",
    "  * Group each series by school\n",
    "  \n",
    "  * Combine the series into a dataframe\n",
    "  \n",
    "  * Optional: give the displayed data cleaner formatting"
   ]
  },
  {
   "cell_type": "code",
   "execution_count": 35,
   "metadata": {},
   "outputs": [],
   "source": [
    "math9 = student_data.loc[student_data[\"grade\"] == \"9th\"].groupby(\"school_name\")[\"math_score\"].mean()\n",
    "math10 = student_data.loc[student_data[\"grade\"] == \"10th\"].groupby(\"school_name\")[\"math_score\"].mean()\n",
    "math11 = student_data.loc[student_data[\"grade\"] == \"11th\"].groupby(\"school_name\")[\"math_score\"].mean()\n",
    "math12 = student_data.loc[student_data[\"grade\"] == \"12th\"].groupby(\"school_name\")[\"math_score\"].mean()\n",
    "\n",
    "schools_math = pd.DataFrame({\n",
    "        \"9th\": math9,\n",
    "        \"10th\": math10,\n",
    "        \"11th\": math11,\n",
    "        \"12th\": math12,\n",
    "})\n",
    "\n",
    "#schools_math"
   ]
  },
  {
   "cell_type": "code",
   "execution_count": 36,
   "metadata": {},
   "outputs": [],
   "source": [
    "# Save a different copy for formatting\n",
    "sch_math = schools_math[[\n",
    "    \"9th\",\n",
    "    \"10th\",\n",
    "    \"11th\",\n",
    "    \"12th\"\n",
    "]]"
   ]
  },
  {
   "cell_type": "code",
   "execution_count": 37,
   "metadata": {},
   "outputs": [
    {
     "data": {
      "text/html": [
       "<style  type=\"text/css\" >\n",
       "</style><table id=\"T_ba4b7622_c600_11e9_b7e0_a45e60b99ee9\" ><thead>    <tr>        <th class=\"blank level0\" ></th>        <th class=\"col_heading level0 col0\" >9th</th>        <th class=\"col_heading level0 col1\" >10th</th>        <th class=\"col_heading level0 col2\" >11th</th>        <th class=\"col_heading level0 col3\" >12th</th>    </tr>    <tr>        <th class=\"index_name level0\" >school_name</th>        <th class=\"blank\" ></th>        <th class=\"blank\" ></th>        <th class=\"blank\" ></th>        <th class=\"blank\" ></th>    </tr></thead><tbody>\n",
       "                <tr>\n",
       "                        <th id=\"T_ba4b7622_c600_11e9_b7e0_a45e60b99ee9level0_row0\" class=\"row_heading level0 row0\" >Bailey High School</th>\n",
       "                        <td id=\"T_ba4b7622_c600_11e9_b7e0_a45e60b99ee9row0_col0\" class=\"data row0 col0\" >77.08</td>\n",
       "                        <td id=\"T_ba4b7622_c600_11e9_b7e0_a45e60b99ee9row0_col1\" class=\"data row0 col1\" >77.00</td>\n",
       "                        <td id=\"T_ba4b7622_c600_11e9_b7e0_a45e60b99ee9row0_col2\" class=\"data row0 col2\" >77.52</td>\n",
       "                        <td id=\"T_ba4b7622_c600_11e9_b7e0_a45e60b99ee9row0_col3\" class=\"data row0 col3\" >76.49</td>\n",
       "            </tr>\n",
       "            <tr>\n",
       "                        <th id=\"T_ba4b7622_c600_11e9_b7e0_a45e60b99ee9level0_row1\" class=\"row_heading level0 row1\" >Cabrera High School</th>\n",
       "                        <td id=\"T_ba4b7622_c600_11e9_b7e0_a45e60b99ee9row1_col0\" class=\"data row1 col0\" >83.09</td>\n",
       "                        <td id=\"T_ba4b7622_c600_11e9_b7e0_a45e60b99ee9row1_col1\" class=\"data row1 col1\" >83.15</td>\n",
       "                        <td id=\"T_ba4b7622_c600_11e9_b7e0_a45e60b99ee9row1_col2\" class=\"data row1 col2\" >82.77</td>\n",
       "                        <td id=\"T_ba4b7622_c600_11e9_b7e0_a45e60b99ee9row1_col3\" class=\"data row1 col3\" >83.28</td>\n",
       "            </tr>\n",
       "            <tr>\n",
       "                        <th id=\"T_ba4b7622_c600_11e9_b7e0_a45e60b99ee9level0_row2\" class=\"row_heading level0 row2\" >Figueroa High School</th>\n",
       "                        <td id=\"T_ba4b7622_c600_11e9_b7e0_a45e60b99ee9row2_col0\" class=\"data row2 col0\" >76.40</td>\n",
       "                        <td id=\"T_ba4b7622_c600_11e9_b7e0_a45e60b99ee9row2_col1\" class=\"data row2 col1\" >76.54</td>\n",
       "                        <td id=\"T_ba4b7622_c600_11e9_b7e0_a45e60b99ee9row2_col2\" class=\"data row2 col2\" >76.88</td>\n",
       "                        <td id=\"T_ba4b7622_c600_11e9_b7e0_a45e60b99ee9row2_col3\" class=\"data row2 col3\" >77.15</td>\n",
       "            </tr>\n",
       "            <tr>\n",
       "                        <th id=\"T_ba4b7622_c600_11e9_b7e0_a45e60b99ee9level0_row3\" class=\"row_heading level0 row3\" >Ford High School</th>\n",
       "                        <td id=\"T_ba4b7622_c600_11e9_b7e0_a45e60b99ee9row3_col0\" class=\"data row3 col0\" >77.36</td>\n",
       "                        <td id=\"T_ba4b7622_c600_11e9_b7e0_a45e60b99ee9row3_col1\" class=\"data row3 col1\" >77.67</td>\n",
       "                        <td id=\"T_ba4b7622_c600_11e9_b7e0_a45e60b99ee9row3_col2\" class=\"data row3 col2\" >76.92</td>\n",
       "                        <td id=\"T_ba4b7622_c600_11e9_b7e0_a45e60b99ee9row3_col3\" class=\"data row3 col3\" >76.18</td>\n",
       "            </tr>\n",
       "            <tr>\n",
       "                        <th id=\"T_ba4b7622_c600_11e9_b7e0_a45e60b99ee9level0_row4\" class=\"row_heading level0 row4\" >Griffin High School</th>\n",
       "                        <td id=\"T_ba4b7622_c600_11e9_b7e0_a45e60b99ee9row4_col0\" class=\"data row4 col0\" >82.04</td>\n",
       "                        <td id=\"T_ba4b7622_c600_11e9_b7e0_a45e60b99ee9row4_col1\" class=\"data row4 col1\" >84.23</td>\n",
       "                        <td id=\"T_ba4b7622_c600_11e9_b7e0_a45e60b99ee9row4_col2\" class=\"data row4 col2\" >83.84</td>\n",
       "                        <td id=\"T_ba4b7622_c600_11e9_b7e0_a45e60b99ee9row4_col3\" class=\"data row4 col3\" >83.36</td>\n",
       "            </tr>\n",
       "            <tr>\n",
       "                        <th id=\"T_ba4b7622_c600_11e9_b7e0_a45e60b99ee9level0_row5\" class=\"row_heading level0 row5\" >Hernandez High School</th>\n",
       "                        <td id=\"T_ba4b7622_c600_11e9_b7e0_a45e60b99ee9row5_col0\" class=\"data row5 col0\" >77.44</td>\n",
       "                        <td id=\"T_ba4b7622_c600_11e9_b7e0_a45e60b99ee9row5_col1\" class=\"data row5 col1\" >77.34</td>\n",
       "                        <td id=\"T_ba4b7622_c600_11e9_b7e0_a45e60b99ee9row5_col2\" class=\"data row5 col2\" >77.14</td>\n",
       "                        <td id=\"T_ba4b7622_c600_11e9_b7e0_a45e60b99ee9row5_col3\" class=\"data row5 col3\" >77.19</td>\n",
       "            </tr>\n",
       "            <tr>\n",
       "                        <th id=\"T_ba4b7622_c600_11e9_b7e0_a45e60b99ee9level0_row6\" class=\"row_heading level0 row6\" >Holden High School</th>\n",
       "                        <td id=\"T_ba4b7622_c600_11e9_b7e0_a45e60b99ee9row6_col0\" class=\"data row6 col0\" >83.79</td>\n",
       "                        <td id=\"T_ba4b7622_c600_11e9_b7e0_a45e60b99ee9row6_col1\" class=\"data row6 col1\" >83.43</td>\n",
       "                        <td id=\"T_ba4b7622_c600_11e9_b7e0_a45e60b99ee9row6_col2\" class=\"data row6 col2\" >85.00</td>\n",
       "                        <td id=\"T_ba4b7622_c600_11e9_b7e0_a45e60b99ee9row6_col3\" class=\"data row6 col3\" >82.86</td>\n",
       "            </tr>\n",
       "            <tr>\n",
       "                        <th id=\"T_ba4b7622_c600_11e9_b7e0_a45e60b99ee9level0_row7\" class=\"row_heading level0 row7\" >Huang High School</th>\n",
       "                        <td id=\"T_ba4b7622_c600_11e9_b7e0_a45e60b99ee9row7_col0\" class=\"data row7 col0\" >77.03</td>\n",
       "                        <td id=\"T_ba4b7622_c600_11e9_b7e0_a45e60b99ee9row7_col1\" class=\"data row7 col1\" >75.91</td>\n",
       "                        <td id=\"T_ba4b7622_c600_11e9_b7e0_a45e60b99ee9row7_col2\" class=\"data row7 col2\" >76.45</td>\n",
       "                        <td id=\"T_ba4b7622_c600_11e9_b7e0_a45e60b99ee9row7_col3\" class=\"data row7 col3\" >77.23</td>\n",
       "            </tr>\n",
       "            <tr>\n",
       "                        <th id=\"T_ba4b7622_c600_11e9_b7e0_a45e60b99ee9level0_row8\" class=\"row_heading level0 row8\" >Johnson High School</th>\n",
       "                        <td id=\"T_ba4b7622_c600_11e9_b7e0_a45e60b99ee9row8_col0\" class=\"data row8 col0\" >77.19</td>\n",
       "                        <td id=\"T_ba4b7622_c600_11e9_b7e0_a45e60b99ee9row8_col1\" class=\"data row8 col1\" >76.69</td>\n",
       "                        <td id=\"T_ba4b7622_c600_11e9_b7e0_a45e60b99ee9row8_col2\" class=\"data row8 col2\" >77.49</td>\n",
       "                        <td id=\"T_ba4b7622_c600_11e9_b7e0_a45e60b99ee9row8_col3\" class=\"data row8 col3\" >76.86</td>\n",
       "            </tr>\n",
       "            <tr>\n",
       "                        <th id=\"T_ba4b7622_c600_11e9_b7e0_a45e60b99ee9level0_row9\" class=\"row_heading level0 row9\" >Pena High School</th>\n",
       "                        <td id=\"T_ba4b7622_c600_11e9_b7e0_a45e60b99ee9row9_col0\" class=\"data row9 col0\" >83.63</td>\n",
       "                        <td id=\"T_ba4b7622_c600_11e9_b7e0_a45e60b99ee9row9_col1\" class=\"data row9 col1\" >83.37</td>\n",
       "                        <td id=\"T_ba4b7622_c600_11e9_b7e0_a45e60b99ee9row9_col2\" class=\"data row9 col2\" >84.33</td>\n",
       "                        <td id=\"T_ba4b7622_c600_11e9_b7e0_a45e60b99ee9row9_col3\" class=\"data row9 col3\" >84.12</td>\n",
       "            </tr>\n",
       "            <tr>\n",
       "                        <th id=\"T_ba4b7622_c600_11e9_b7e0_a45e60b99ee9level0_row10\" class=\"row_heading level0 row10\" >Rodriguez High School</th>\n",
       "                        <td id=\"T_ba4b7622_c600_11e9_b7e0_a45e60b99ee9row10_col0\" class=\"data row10 col0\" >76.86</td>\n",
       "                        <td id=\"T_ba4b7622_c600_11e9_b7e0_a45e60b99ee9row10_col1\" class=\"data row10 col1\" >76.61</td>\n",
       "                        <td id=\"T_ba4b7622_c600_11e9_b7e0_a45e60b99ee9row10_col2\" class=\"data row10 col2\" >76.40</td>\n",
       "                        <td id=\"T_ba4b7622_c600_11e9_b7e0_a45e60b99ee9row10_col3\" class=\"data row10 col3\" >77.69</td>\n",
       "            </tr>\n",
       "            <tr>\n",
       "                        <th id=\"T_ba4b7622_c600_11e9_b7e0_a45e60b99ee9level0_row11\" class=\"row_heading level0 row11\" >Shelton High School</th>\n",
       "                        <td id=\"T_ba4b7622_c600_11e9_b7e0_a45e60b99ee9row11_col0\" class=\"data row11 col0\" >83.42</td>\n",
       "                        <td id=\"T_ba4b7622_c600_11e9_b7e0_a45e60b99ee9row11_col1\" class=\"data row11 col1\" >82.92</td>\n",
       "                        <td id=\"T_ba4b7622_c600_11e9_b7e0_a45e60b99ee9row11_col2\" class=\"data row11 col2\" >83.38</td>\n",
       "                        <td id=\"T_ba4b7622_c600_11e9_b7e0_a45e60b99ee9row11_col3\" class=\"data row11 col3\" >83.78</td>\n",
       "            </tr>\n",
       "            <tr>\n",
       "                        <th id=\"T_ba4b7622_c600_11e9_b7e0_a45e60b99ee9level0_row12\" class=\"row_heading level0 row12\" >Thomas High School</th>\n",
       "                        <td id=\"T_ba4b7622_c600_11e9_b7e0_a45e60b99ee9row12_col0\" class=\"data row12 col0\" >83.59</td>\n",
       "                        <td id=\"T_ba4b7622_c600_11e9_b7e0_a45e60b99ee9row12_col1\" class=\"data row12 col1\" >83.09</td>\n",
       "                        <td id=\"T_ba4b7622_c600_11e9_b7e0_a45e60b99ee9row12_col2\" class=\"data row12 col2\" >83.50</td>\n",
       "                        <td id=\"T_ba4b7622_c600_11e9_b7e0_a45e60b99ee9row12_col3\" class=\"data row12 col3\" >83.50</td>\n",
       "            </tr>\n",
       "            <tr>\n",
       "                        <th id=\"T_ba4b7622_c600_11e9_b7e0_a45e60b99ee9level0_row13\" class=\"row_heading level0 row13\" >Wilson High School</th>\n",
       "                        <td id=\"T_ba4b7622_c600_11e9_b7e0_a45e60b99ee9row13_col0\" class=\"data row13 col0\" >83.09</td>\n",
       "                        <td id=\"T_ba4b7622_c600_11e9_b7e0_a45e60b99ee9row13_col1\" class=\"data row13 col1\" >83.72</td>\n",
       "                        <td id=\"T_ba4b7622_c600_11e9_b7e0_a45e60b99ee9row13_col2\" class=\"data row13 col2\" >83.20</td>\n",
       "                        <td id=\"T_ba4b7622_c600_11e9_b7e0_a45e60b99ee9row13_col3\" class=\"data row13 col3\" >83.04</td>\n",
       "            </tr>\n",
       "            <tr>\n",
       "                        <th id=\"T_ba4b7622_c600_11e9_b7e0_a45e60b99ee9level0_row14\" class=\"row_heading level0 row14\" >Wright High School</th>\n",
       "                        <td id=\"T_ba4b7622_c600_11e9_b7e0_a45e60b99ee9row14_col0\" class=\"data row14 col0\" >83.26</td>\n",
       "                        <td id=\"T_ba4b7622_c600_11e9_b7e0_a45e60b99ee9row14_col1\" class=\"data row14 col1\" >84.01</td>\n",
       "                        <td id=\"T_ba4b7622_c600_11e9_b7e0_a45e60b99ee9row14_col2\" class=\"data row14 col2\" >83.84</td>\n",
       "                        <td id=\"T_ba4b7622_c600_11e9_b7e0_a45e60b99ee9row14_col3\" class=\"data row14 col3\" >83.64</td>\n",
       "            </tr>\n",
       "    </tbody></table>"
      ],
      "text/plain": [
       "<pandas.io.formats.style.Styler at 0x11ca05588>"
      ]
     },
     "execution_count": 37,
     "metadata": {},
     "output_type": "execute_result"
    }
   ],
   "source": [
    "sch_math.style.format({\n",
    "    \"9th\": '{:.2f}',\n",
    "    \"10th\": '{:.2f}',\n",
    "    \"11th\": '{:.2f}',\n",
    "    \"12th\": '{:.2f}' \n",
    "})"
   ]
  },
  {
   "cell_type": "markdown",
   "metadata": {},
   "source": [
    "## Reading Score by Grade "
   ]
  },
  {
   "cell_type": "markdown",
   "metadata": {},
   "source": [
    "* Perform the same operations as above for reading scores"
   ]
  },
  {
   "cell_type": "code",
   "execution_count": 38,
   "metadata": {},
   "outputs": [],
   "source": [
    "reading9 = student_data.loc[student_data[\"grade\"] == \"9th\"].groupby(\"school_name\")[\"reading_score\"].mean()\n",
    "reading10 = student_data.loc[student_data[\"grade\"] == \"10th\"].groupby(\"school_name\")[\"reading_score\"].mean()\n",
    "reading11 = student_data.loc[student_data[\"grade\"] == \"11th\"].groupby(\"school_name\")[\"reading_score\"].mean()\n",
    "reading12 = student_data.loc[student_data[\"grade\"] == \"12th\"].groupby(\"school_name\")[\"reading_score\"].mean()\n",
    "\n",
    "schools_reading = pd.DataFrame({\n",
    "        \"9th\": reading9,\n",
    "        \"10th\": reading10,\n",
    "        \"11th\": reading11,\n",
    "        \"12th\": reading12,\n",
    "})\n",
    "\n",
    "#schools_reading"
   ]
  },
  {
   "cell_type": "code",
   "execution_count": 39,
   "metadata": {},
   "outputs": [],
   "source": [
    "# Save a different copy for formatting\n",
    "sch_reading = schools_reading[[\n",
    "    \"9th\",\n",
    "    \"10th\",\n",
    "    \"11th\",\n",
    "    \"12th\"\n",
    "]]"
   ]
  },
  {
   "cell_type": "code",
   "execution_count": 40,
   "metadata": {},
   "outputs": [
    {
     "data": {
      "text/html": [
       "<style  type=\"text/css\" >\n",
       "</style><table id=\"T_ba620edc_c600_11e9_b7e0_a45e60b99ee9\" ><thead>    <tr>        <th class=\"blank level0\" ></th>        <th class=\"col_heading level0 col0\" >9th</th>        <th class=\"col_heading level0 col1\" >10th</th>        <th class=\"col_heading level0 col2\" >11th</th>        <th class=\"col_heading level0 col3\" >12th</th>    </tr>    <tr>        <th class=\"index_name level0\" >school_name</th>        <th class=\"blank\" ></th>        <th class=\"blank\" ></th>        <th class=\"blank\" ></th>        <th class=\"blank\" ></th>    </tr></thead><tbody>\n",
       "                <tr>\n",
       "                        <th id=\"T_ba620edc_c600_11e9_b7e0_a45e60b99ee9level0_row0\" class=\"row_heading level0 row0\" >Bailey High School</th>\n",
       "                        <td id=\"T_ba620edc_c600_11e9_b7e0_a45e60b99ee9row0_col0\" class=\"data row0 col0\" >81.30</td>\n",
       "                        <td id=\"T_ba620edc_c600_11e9_b7e0_a45e60b99ee9row0_col1\" class=\"data row0 col1\" >80.91</td>\n",
       "                        <td id=\"T_ba620edc_c600_11e9_b7e0_a45e60b99ee9row0_col2\" class=\"data row0 col2\" >80.95</td>\n",
       "                        <td id=\"T_ba620edc_c600_11e9_b7e0_a45e60b99ee9row0_col3\" class=\"data row0 col3\" >80.91</td>\n",
       "            </tr>\n",
       "            <tr>\n",
       "                        <th id=\"T_ba620edc_c600_11e9_b7e0_a45e60b99ee9level0_row1\" class=\"row_heading level0 row1\" >Cabrera High School</th>\n",
       "                        <td id=\"T_ba620edc_c600_11e9_b7e0_a45e60b99ee9row1_col0\" class=\"data row1 col0\" >83.68</td>\n",
       "                        <td id=\"T_ba620edc_c600_11e9_b7e0_a45e60b99ee9row1_col1\" class=\"data row1 col1\" >84.25</td>\n",
       "                        <td id=\"T_ba620edc_c600_11e9_b7e0_a45e60b99ee9row1_col2\" class=\"data row1 col2\" >83.79</td>\n",
       "                        <td id=\"T_ba620edc_c600_11e9_b7e0_a45e60b99ee9row1_col3\" class=\"data row1 col3\" >84.29</td>\n",
       "            </tr>\n",
       "            <tr>\n",
       "                        <th id=\"T_ba620edc_c600_11e9_b7e0_a45e60b99ee9level0_row2\" class=\"row_heading level0 row2\" >Figueroa High School</th>\n",
       "                        <td id=\"T_ba620edc_c600_11e9_b7e0_a45e60b99ee9row2_col0\" class=\"data row2 col0\" >81.20</td>\n",
       "                        <td id=\"T_ba620edc_c600_11e9_b7e0_a45e60b99ee9row2_col1\" class=\"data row2 col1\" >81.41</td>\n",
       "                        <td id=\"T_ba620edc_c600_11e9_b7e0_a45e60b99ee9row2_col2\" class=\"data row2 col2\" >80.64</td>\n",
       "                        <td id=\"T_ba620edc_c600_11e9_b7e0_a45e60b99ee9row2_col3\" class=\"data row2 col3\" >81.38</td>\n",
       "            </tr>\n",
       "            <tr>\n",
       "                        <th id=\"T_ba620edc_c600_11e9_b7e0_a45e60b99ee9level0_row3\" class=\"row_heading level0 row3\" >Ford High School</th>\n",
       "                        <td id=\"T_ba620edc_c600_11e9_b7e0_a45e60b99ee9row3_col0\" class=\"data row3 col0\" >80.63</td>\n",
       "                        <td id=\"T_ba620edc_c600_11e9_b7e0_a45e60b99ee9row3_col1\" class=\"data row3 col1\" >81.26</td>\n",
       "                        <td id=\"T_ba620edc_c600_11e9_b7e0_a45e60b99ee9row3_col2\" class=\"data row3 col2\" >80.40</td>\n",
       "                        <td id=\"T_ba620edc_c600_11e9_b7e0_a45e60b99ee9row3_col3\" class=\"data row3 col3\" >80.66</td>\n",
       "            </tr>\n",
       "            <tr>\n",
       "                        <th id=\"T_ba620edc_c600_11e9_b7e0_a45e60b99ee9level0_row4\" class=\"row_heading level0 row4\" >Griffin High School</th>\n",
       "                        <td id=\"T_ba620edc_c600_11e9_b7e0_a45e60b99ee9row4_col0\" class=\"data row4 col0\" >83.37</td>\n",
       "                        <td id=\"T_ba620edc_c600_11e9_b7e0_a45e60b99ee9row4_col1\" class=\"data row4 col1\" >83.71</td>\n",
       "                        <td id=\"T_ba620edc_c600_11e9_b7e0_a45e60b99ee9row4_col2\" class=\"data row4 col2\" >84.29</td>\n",
       "                        <td id=\"T_ba620edc_c600_11e9_b7e0_a45e60b99ee9row4_col3\" class=\"data row4 col3\" >84.01</td>\n",
       "            </tr>\n",
       "            <tr>\n",
       "                        <th id=\"T_ba620edc_c600_11e9_b7e0_a45e60b99ee9level0_row5\" class=\"row_heading level0 row5\" >Hernandez High School</th>\n",
       "                        <td id=\"T_ba620edc_c600_11e9_b7e0_a45e60b99ee9row5_col0\" class=\"data row5 col0\" >80.87</td>\n",
       "                        <td id=\"T_ba620edc_c600_11e9_b7e0_a45e60b99ee9row5_col1\" class=\"data row5 col1\" >80.66</td>\n",
       "                        <td id=\"T_ba620edc_c600_11e9_b7e0_a45e60b99ee9row5_col2\" class=\"data row5 col2\" >81.40</td>\n",
       "                        <td id=\"T_ba620edc_c600_11e9_b7e0_a45e60b99ee9row5_col3\" class=\"data row5 col3\" >80.86</td>\n",
       "            </tr>\n",
       "            <tr>\n",
       "                        <th id=\"T_ba620edc_c600_11e9_b7e0_a45e60b99ee9level0_row6\" class=\"row_heading level0 row6\" >Holden High School</th>\n",
       "                        <td id=\"T_ba620edc_c600_11e9_b7e0_a45e60b99ee9row6_col0\" class=\"data row6 col0\" >83.68</td>\n",
       "                        <td id=\"T_ba620edc_c600_11e9_b7e0_a45e60b99ee9row6_col1\" class=\"data row6 col1\" >83.32</td>\n",
       "                        <td id=\"T_ba620edc_c600_11e9_b7e0_a45e60b99ee9row6_col2\" class=\"data row6 col2\" >83.82</td>\n",
       "                        <td id=\"T_ba620edc_c600_11e9_b7e0_a45e60b99ee9row6_col3\" class=\"data row6 col3\" >84.70</td>\n",
       "            </tr>\n",
       "            <tr>\n",
       "                        <th id=\"T_ba620edc_c600_11e9_b7e0_a45e60b99ee9level0_row7\" class=\"row_heading level0 row7\" >Huang High School</th>\n",
       "                        <td id=\"T_ba620edc_c600_11e9_b7e0_a45e60b99ee9row7_col0\" class=\"data row7 col0\" >81.29</td>\n",
       "                        <td id=\"T_ba620edc_c600_11e9_b7e0_a45e60b99ee9row7_col1\" class=\"data row7 col1\" >81.51</td>\n",
       "                        <td id=\"T_ba620edc_c600_11e9_b7e0_a45e60b99ee9row7_col2\" class=\"data row7 col2\" >81.42</td>\n",
       "                        <td id=\"T_ba620edc_c600_11e9_b7e0_a45e60b99ee9row7_col3\" class=\"data row7 col3\" >80.31</td>\n",
       "            </tr>\n",
       "            <tr>\n",
       "                        <th id=\"T_ba620edc_c600_11e9_b7e0_a45e60b99ee9level0_row8\" class=\"row_heading level0 row8\" >Johnson High School</th>\n",
       "                        <td id=\"T_ba620edc_c600_11e9_b7e0_a45e60b99ee9row8_col0\" class=\"data row8 col0\" >81.26</td>\n",
       "                        <td id=\"T_ba620edc_c600_11e9_b7e0_a45e60b99ee9row8_col1\" class=\"data row8 col1\" >80.77</td>\n",
       "                        <td id=\"T_ba620edc_c600_11e9_b7e0_a45e60b99ee9row8_col2\" class=\"data row8 col2\" >80.62</td>\n",
       "                        <td id=\"T_ba620edc_c600_11e9_b7e0_a45e60b99ee9row8_col3\" class=\"data row8 col3\" >81.23</td>\n",
       "            </tr>\n",
       "            <tr>\n",
       "                        <th id=\"T_ba620edc_c600_11e9_b7e0_a45e60b99ee9level0_row9\" class=\"row_heading level0 row9\" >Pena High School</th>\n",
       "                        <td id=\"T_ba620edc_c600_11e9_b7e0_a45e60b99ee9row9_col0\" class=\"data row9 col0\" >83.81</td>\n",
       "                        <td id=\"T_ba620edc_c600_11e9_b7e0_a45e60b99ee9row9_col1\" class=\"data row9 col1\" >83.61</td>\n",
       "                        <td id=\"T_ba620edc_c600_11e9_b7e0_a45e60b99ee9row9_col2\" class=\"data row9 col2\" >84.34</td>\n",
       "                        <td id=\"T_ba620edc_c600_11e9_b7e0_a45e60b99ee9row9_col3\" class=\"data row9 col3\" >84.59</td>\n",
       "            </tr>\n",
       "            <tr>\n",
       "                        <th id=\"T_ba620edc_c600_11e9_b7e0_a45e60b99ee9level0_row10\" class=\"row_heading level0 row10\" >Rodriguez High School</th>\n",
       "                        <td id=\"T_ba620edc_c600_11e9_b7e0_a45e60b99ee9row10_col0\" class=\"data row10 col0\" >80.99</td>\n",
       "                        <td id=\"T_ba620edc_c600_11e9_b7e0_a45e60b99ee9row10_col1\" class=\"data row10 col1\" >80.63</td>\n",
       "                        <td id=\"T_ba620edc_c600_11e9_b7e0_a45e60b99ee9row10_col2\" class=\"data row10 col2\" >80.86</td>\n",
       "                        <td id=\"T_ba620edc_c600_11e9_b7e0_a45e60b99ee9row10_col3\" class=\"data row10 col3\" >80.38</td>\n",
       "            </tr>\n",
       "            <tr>\n",
       "                        <th id=\"T_ba620edc_c600_11e9_b7e0_a45e60b99ee9level0_row11\" class=\"row_heading level0 row11\" >Shelton High School</th>\n",
       "                        <td id=\"T_ba620edc_c600_11e9_b7e0_a45e60b99ee9row11_col0\" class=\"data row11 col0\" >84.12</td>\n",
       "                        <td id=\"T_ba620edc_c600_11e9_b7e0_a45e60b99ee9row11_col1\" class=\"data row11 col1\" >83.44</td>\n",
       "                        <td id=\"T_ba620edc_c600_11e9_b7e0_a45e60b99ee9row11_col2\" class=\"data row11 col2\" >84.37</td>\n",
       "                        <td id=\"T_ba620edc_c600_11e9_b7e0_a45e60b99ee9row11_col3\" class=\"data row11 col3\" >82.78</td>\n",
       "            </tr>\n",
       "            <tr>\n",
       "                        <th id=\"T_ba620edc_c600_11e9_b7e0_a45e60b99ee9level0_row12\" class=\"row_heading level0 row12\" >Thomas High School</th>\n",
       "                        <td id=\"T_ba620edc_c600_11e9_b7e0_a45e60b99ee9row12_col0\" class=\"data row12 col0\" >83.73</td>\n",
       "                        <td id=\"T_ba620edc_c600_11e9_b7e0_a45e60b99ee9row12_col1\" class=\"data row12 col1\" >84.25</td>\n",
       "                        <td id=\"T_ba620edc_c600_11e9_b7e0_a45e60b99ee9row12_col2\" class=\"data row12 col2\" >83.59</td>\n",
       "                        <td id=\"T_ba620edc_c600_11e9_b7e0_a45e60b99ee9row12_col3\" class=\"data row12 col3\" >83.83</td>\n",
       "            </tr>\n",
       "            <tr>\n",
       "                        <th id=\"T_ba620edc_c600_11e9_b7e0_a45e60b99ee9level0_row13\" class=\"row_heading level0 row13\" >Wilson High School</th>\n",
       "                        <td id=\"T_ba620edc_c600_11e9_b7e0_a45e60b99ee9row13_col0\" class=\"data row13 col0\" >83.94</td>\n",
       "                        <td id=\"T_ba620edc_c600_11e9_b7e0_a45e60b99ee9row13_col1\" class=\"data row13 col1\" >84.02</td>\n",
       "                        <td id=\"T_ba620edc_c600_11e9_b7e0_a45e60b99ee9row13_col2\" class=\"data row13 col2\" >83.76</td>\n",
       "                        <td id=\"T_ba620edc_c600_11e9_b7e0_a45e60b99ee9row13_col3\" class=\"data row13 col3\" >84.32</td>\n",
       "            </tr>\n",
       "            <tr>\n",
       "                        <th id=\"T_ba620edc_c600_11e9_b7e0_a45e60b99ee9level0_row14\" class=\"row_heading level0 row14\" >Wright High School</th>\n",
       "                        <td id=\"T_ba620edc_c600_11e9_b7e0_a45e60b99ee9row14_col0\" class=\"data row14 col0\" >83.83</td>\n",
       "                        <td id=\"T_ba620edc_c600_11e9_b7e0_a45e60b99ee9row14_col1\" class=\"data row14 col1\" >83.81</td>\n",
       "                        <td id=\"T_ba620edc_c600_11e9_b7e0_a45e60b99ee9row14_col2\" class=\"data row14 col2\" >84.16</td>\n",
       "                        <td id=\"T_ba620edc_c600_11e9_b7e0_a45e60b99ee9row14_col3\" class=\"data row14 col3\" >84.07</td>\n",
       "            </tr>\n",
       "    </tbody></table>"
      ],
      "text/plain": [
       "<pandas.io.formats.style.Styler at 0x11ca88160>"
      ]
     },
     "execution_count": 40,
     "metadata": {},
     "output_type": "execute_result"
    }
   ],
   "source": [
    "sch_reading.style.format({\n",
    "    \"9th\": '{:.2f}',\n",
    "    \"10th\": '{:.2f}',\n",
    "    \"11th\": '{:.2f}',\n",
    "    \"12th\": '{:.2f}' \n",
    "})"
   ]
  },
  {
   "cell_type": "markdown",
   "metadata": {},
   "source": [
    "## Scores by School Spending"
   ]
  },
  {
   "cell_type": "markdown",
   "metadata": {},
   "source": [
    "* Create a table that breaks down school performances based on average Spending Ranges (Per Student). Use 4 reasonable bins to group school spending. Include in the table each of the following:\n",
    "  * Average Math Score\n",
    "  * Average Reading Score\n",
    "  * % Passing Math\n",
    "  * % Passing Reading\n",
    "  * Overall Passing Rate (Average of the above two)"
   ]
  },
  {
   "cell_type": "code",
   "execution_count": 41,
   "metadata": {},
   "outputs": [],
   "source": [
    "#school_breakdown.info()"
   ]
  },
  {
   "cell_type": "code",
   "execution_count": 42,
   "metadata": {},
   "outputs": [],
   "source": [
    "# Sample bins. Feel free to create your own bins.\n",
    "spending_bins = [0, 585, 615, 645, 999]\n",
    "group_names = [\"under $585\", \"$585-614\", \"$615-644\", \"$645 or more\"]\n",
    "\n",
    "# Set up a DataFrame using the bins for the per student budgets\n",
    "school_breakdown[\"Spending Ranges Per Student\"] = pd.cut(school_breakdown[\"Per Student Budget\"], spending_bins, labels=group_names)\n",
    "\n",
    "#school_breakdown"
   ]
  },
  {
   "cell_type": "code",
   "execution_count": 43,
   "metadata": {},
   "outputs": [],
   "source": [
    "# Aggregate the df so it's indexed by spending per student\n",
    "spending_results = school_breakdown.groupby(\"Spending Ranges Per Student\").agg({\n",
    "    \"Average Math Score\": \"mean\",\n",
    "    \"Average Reading Score\": \"mean\",\n",
    "    \"% Passing Math\": \"mean\",\n",
    "    \"% Passing Reading\": \"mean\",\n",
    "    \"% Overall Passing Rate\": \"mean\"\n",
    "})\n",
    "\n",
    "#spending_results"
   ]
  },
  {
   "cell_type": "code",
   "execution_count": 44,
   "metadata": {},
   "outputs": [],
   "source": [
    "# Save a different copy for formatting\n",
    "spend_results = spending_results[[\n",
    "    \"Average Math Score\",\n",
    "    \"Average Reading Score\",\n",
    "    \"% Passing Math\",\n",
    "    \"% Passing Reading\",\n",
    "    \"% Overall Passing Rate\"\n",
    "]]"
   ]
  },
  {
   "cell_type": "code",
   "execution_count": 45,
   "metadata": {},
   "outputs": [
    {
     "data": {
      "text/html": [
       "<style  type=\"text/css\" >\n",
       "</style><table id=\"T_ba74f3b2_c600_11e9_b7e0_a45e60b99ee9\" ><thead>    <tr>        <th class=\"blank level0\" ></th>        <th class=\"col_heading level0 col0\" >Average Math Score</th>        <th class=\"col_heading level0 col1\" >Average Reading Score</th>        <th class=\"col_heading level0 col2\" >% Passing Math</th>        <th class=\"col_heading level0 col3\" >% Passing Reading</th>        <th class=\"col_heading level0 col4\" >% Overall Passing Rate</th>    </tr>    <tr>        <th class=\"index_name level0\" >Spending Ranges Per Student</th>        <th class=\"blank\" ></th>        <th class=\"blank\" ></th>        <th class=\"blank\" ></th>        <th class=\"blank\" ></th>        <th class=\"blank\" ></th>    </tr></thead><tbody>\n",
       "                <tr>\n",
       "                        <th id=\"T_ba74f3b2_c600_11e9_b7e0_a45e60b99ee9level0_row0\" class=\"row_heading level0 row0\" >under $585</th>\n",
       "                        <td id=\"T_ba74f3b2_c600_11e9_b7e0_a45e60b99ee9row0_col0\" class=\"data row0 col0\" >83.46</td>\n",
       "                        <td id=\"T_ba74f3b2_c600_11e9_b7e0_a45e60b99ee9row0_col1\" class=\"data row0 col1\" >83.93</td>\n",
       "                        <td id=\"T_ba74f3b2_c600_11e9_b7e0_a45e60b99ee9row0_col2\" class=\"data row0 col2\" >93.46</td>\n",
       "                        <td id=\"T_ba74f3b2_c600_11e9_b7e0_a45e60b99ee9row0_col3\" class=\"data row0 col3\" >96.61</td>\n",
       "                        <td id=\"T_ba74f3b2_c600_11e9_b7e0_a45e60b99ee9row0_col4\" class=\"data row0 col4\" >95.04</td>\n",
       "            </tr>\n",
       "            <tr>\n",
       "                        <th id=\"T_ba74f3b2_c600_11e9_b7e0_a45e60b99ee9level0_row1\" class=\"row_heading level0 row1\" >$585-614</th>\n",
       "                        <td id=\"T_ba74f3b2_c600_11e9_b7e0_a45e60b99ee9row1_col0\" class=\"data row1 col0\" >83.60</td>\n",
       "                        <td id=\"T_ba74f3b2_c600_11e9_b7e0_a45e60b99ee9row1_col1\" class=\"data row1 col1\" >83.89</td>\n",
       "                        <td id=\"T_ba74f3b2_c600_11e9_b7e0_a45e60b99ee9row1_col2\" class=\"data row1 col2\" >94.23</td>\n",
       "                        <td id=\"T_ba74f3b2_c600_11e9_b7e0_a45e60b99ee9row1_col3\" class=\"data row1 col3\" >95.90</td>\n",
       "                        <td id=\"T_ba74f3b2_c600_11e9_b7e0_a45e60b99ee9row1_col4\" class=\"data row1 col4\" >95.07</td>\n",
       "            </tr>\n",
       "            <tr>\n",
       "                        <th id=\"T_ba74f3b2_c600_11e9_b7e0_a45e60b99ee9level0_row2\" class=\"row_heading level0 row2\" >$615-644</th>\n",
       "                        <td id=\"T_ba74f3b2_c600_11e9_b7e0_a45e60b99ee9row2_col0\" class=\"data row2 col0\" >79.08</td>\n",
       "                        <td id=\"T_ba74f3b2_c600_11e9_b7e0_a45e60b99ee9row2_col1\" class=\"data row2 col1\" >81.89</td>\n",
       "                        <td id=\"T_ba74f3b2_c600_11e9_b7e0_a45e60b99ee9row2_col2\" class=\"data row2 col2\" >75.67</td>\n",
       "                        <td id=\"T_ba74f3b2_c600_11e9_b7e0_a45e60b99ee9row2_col3\" class=\"data row2 col3\" >86.11</td>\n",
       "                        <td id=\"T_ba74f3b2_c600_11e9_b7e0_a45e60b99ee9row2_col4\" class=\"data row2 col4\" >80.89</td>\n",
       "            </tr>\n",
       "            <tr>\n",
       "                        <th id=\"T_ba74f3b2_c600_11e9_b7e0_a45e60b99ee9level0_row3\" class=\"row_heading level0 row3\" >$645 or more</th>\n",
       "                        <td id=\"T_ba74f3b2_c600_11e9_b7e0_a45e60b99ee9row3_col0\" class=\"data row3 col0\" >77.00</td>\n",
       "                        <td id=\"T_ba74f3b2_c600_11e9_b7e0_a45e60b99ee9row3_col1\" class=\"data row3 col1\" >81.03</td>\n",
       "                        <td id=\"T_ba74f3b2_c600_11e9_b7e0_a45e60b99ee9row3_col2\" class=\"data row3 col2\" >66.16</td>\n",
       "                        <td id=\"T_ba74f3b2_c600_11e9_b7e0_a45e60b99ee9row3_col3\" class=\"data row3 col3\" >81.13</td>\n",
       "                        <td id=\"T_ba74f3b2_c600_11e9_b7e0_a45e60b99ee9row3_col4\" class=\"data row3 col4\" >73.65</td>\n",
       "            </tr>\n",
       "    </tbody></table>"
      ],
      "text/plain": [
       "<pandas.io.formats.style.Styler at 0x11ce19c50>"
      ]
     },
     "execution_count": 45,
     "metadata": {},
     "output_type": "execute_result"
    }
   ],
   "source": [
    "spend_results.style.format({\n",
    "    \"Average Math Score\": '{:.2f}',\n",
    "    \"Average Reading Score\": '{:.2f}',\n",
    "    \"% Passing Math\": '{:.2f}',\n",
    "    \"% Passing Reading\": '{:.2f}',\n",
    "    \"% Overall Passing Rate\": '{:.2f}'\n",
    "})"
   ]
  },
  {
   "cell_type": "markdown",
   "metadata": {},
   "source": [
    "## Scores by School Size"
   ]
  },
  {
   "cell_type": "markdown",
   "metadata": {},
   "source": [
    "* Perform the same operations as above, based on school size."
   ]
  },
  {
   "cell_type": "code",
   "execution_count": 46,
   "metadata": {},
   "outputs": [],
   "source": [
    "# Sample bins. Feel free to create your own bins.\n",
    "size_bins = [0, 1000, 2000, 5000]\n",
    "groups = [\"Small (<1000)\", \"Medium (1000-2000)\", \"Large (2000-5000)\"]\n",
    "\n",
    "# Set up a DataFrame using the bins for different school sizes\n",
    "school_breakdown[\"School Size\"] = pd.cut(school_breakdown[\"Total Students\"], size_bins, labels=groups)\n",
    "\n",
    "#school_breakdown"
   ]
  },
  {
   "cell_type": "code",
   "execution_count": 47,
   "metadata": {},
   "outputs": [],
   "source": [
    "# Aggregate the df so it's indexed by school sizes\n",
    "school_size_results = school_breakdown.groupby(\"School Size\").agg({\n",
    "    \"Average Math Score\": \"mean\",\n",
    "    \"Average Reading Score\": \"mean\",\n",
    "    \"% Passing Math\": \"mean\",\n",
    "    \"% Passing Reading\": \"mean\",\n",
    "    \"% Overall Passing Rate\": \"mean\"\n",
    "})\n",
    "\n",
    "#school_size_results"
   ]
  },
  {
   "cell_type": "code",
   "execution_count": 48,
   "metadata": {},
   "outputs": [],
   "source": [
    "# Save a different copy for formatting\n",
    "size_results = school_size_results[[\n",
    "    \"Average Math Score\",\n",
    "    \"Average Reading Score\",\n",
    "    \"% Passing Math\",\n",
    "    \"% Passing Reading\",\n",
    "    \"% Overall Passing Rate\"\n",
    "]]"
   ]
  },
  {
   "cell_type": "code",
   "execution_count": 49,
   "metadata": {
    "scrolled": true
   },
   "outputs": [
    {
     "data": {
      "text/html": [
       "<style  type=\"text/css\" >\n",
       "</style><table id=\"T_ba82c55a_c600_11e9_b7e0_a45e60b99ee9\" ><thead>    <tr>        <th class=\"blank level0\" ></th>        <th class=\"col_heading level0 col0\" >Average Math Score</th>        <th class=\"col_heading level0 col1\" >Average Reading Score</th>        <th class=\"col_heading level0 col2\" >% Passing Math</th>        <th class=\"col_heading level0 col3\" >% Passing Reading</th>        <th class=\"col_heading level0 col4\" >% Overall Passing Rate</th>    </tr>    <tr>        <th class=\"index_name level0\" >School Size</th>        <th class=\"blank\" ></th>        <th class=\"blank\" ></th>        <th class=\"blank\" ></th>        <th class=\"blank\" ></th>        <th class=\"blank\" ></th>    </tr></thead><tbody>\n",
       "                <tr>\n",
       "                        <th id=\"T_ba82c55a_c600_11e9_b7e0_a45e60b99ee9level0_row0\" class=\"row_heading level0 row0\" >Small (<1000)</th>\n",
       "                        <td id=\"T_ba82c55a_c600_11e9_b7e0_a45e60b99ee9row0_col0\" class=\"data row0 col0\" >83.82</td>\n",
       "                        <td id=\"T_ba82c55a_c600_11e9_b7e0_a45e60b99ee9row0_col1\" class=\"data row0 col1\" >83.93</td>\n",
       "                        <td id=\"T_ba82c55a_c600_11e9_b7e0_a45e60b99ee9row0_col2\" class=\"data row0 col2\" >93.55</td>\n",
       "                        <td id=\"T_ba82c55a_c600_11e9_b7e0_a45e60b99ee9row0_col3\" class=\"data row0 col3\" >96.10</td>\n",
       "                        <td id=\"T_ba82c55a_c600_11e9_b7e0_a45e60b99ee9row0_col4\" class=\"data row0 col4\" >94.82</td>\n",
       "            </tr>\n",
       "            <tr>\n",
       "                        <th id=\"T_ba82c55a_c600_11e9_b7e0_a45e60b99ee9level0_row1\" class=\"row_heading level0 row1\" >Medium (1000-2000)</th>\n",
       "                        <td id=\"T_ba82c55a_c600_11e9_b7e0_a45e60b99ee9row1_col0\" class=\"data row1 col0\" >83.37</td>\n",
       "                        <td id=\"T_ba82c55a_c600_11e9_b7e0_a45e60b99ee9row1_col1\" class=\"data row1 col1\" >83.86</td>\n",
       "                        <td id=\"T_ba82c55a_c600_11e9_b7e0_a45e60b99ee9row1_col2\" class=\"data row1 col2\" >93.60</td>\n",
       "                        <td id=\"T_ba82c55a_c600_11e9_b7e0_a45e60b99ee9row1_col3\" class=\"data row1 col3\" >96.79</td>\n",
       "                        <td id=\"T_ba82c55a_c600_11e9_b7e0_a45e60b99ee9row1_col4\" class=\"data row1 col4\" >95.20</td>\n",
       "            </tr>\n",
       "            <tr>\n",
       "                        <th id=\"T_ba82c55a_c600_11e9_b7e0_a45e60b99ee9level0_row2\" class=\"row_heading level0 row2\" >Large (2000-5000)</th>\n",
       "                        <td id=\"T_ba82c55a_c600_11e9_b7e0_a45e60b99ee9row2_col0\" class=\"data row2 col0\" >77.75</td>\n",
       "                        <td id=\"T_ba82c55a_c600_11e9_b7e0_a45e60b99ee9row2_col1\" class=\"data row2 col1\" >81.34</td>\n",
       "                        <td id=\"T_ba82c55a_c600_11e9_b7e0_a45e60b99ee9row2_col2\" class=\"data row2 col2\" >69.96</td>\n",
       "                        <td id=\"T_ba82c55a_c600_11e9_b7e0_a45e60b99ee9row2_col3\" class=\"data row2 col3\" >82.77</td>\n",
       "                        <td id=\"T_ba82c55a_c600_11e9_b7e0_a45e60b99ee9row2_col4\" class=\"data row2 col4\" >76.36</td>\n",
       "            </tr>\n",
       "    </tbody></table>"
      ],
      "text/plain": [
       "<pandas.io.formats.style.Styler at 0x11ce20d30>"
      ]
     },
     "execution_count": 49,
     "metadata": {},
     "output_type": "execute_result"
    }
   ],
   "source": [
    "size_results.style.format({\n",
    "    \"Average Math Score\": '{:.2f}',\n",
    "    \"Average Reading Score\": '{:.2f}',\n",
    "    \"% Passing Math\": '{:.2f}',\n",
    "    \"% Passing Reading\": '{:.2f}',\n",
    "    \"% Overall Passing Rate\": '{:.2f}'\n",
    "})"
   ]
  },
  {
   "cell_type": "markdown",
   "metadata": {},
   "source": [
    "## Scores by School Type"
   ]
  },
  {
   "cell_type": "markdown",
   "metadata": {},
   "source": [
    "* Perform the same operations as above, based on school type."
   ]
  },
  {
   "cell_type": "code",
   "execution_count": 50,
   "metadata": {},
   "outputs": [],
   "source": [
    "# Aggregate the df so it's indexed by school type (Charter or District)\n",
    "school_type_results = school_breakdown.groupby(\"School Type\").agg({\n",
    "    \"Average Math Score\": \"mean\",\n",
    "    \"Average Reading Score\": \"mean\",\n",
    "    \"% Passing Math\": \"mean\",\n",
    "    \"% Passing Reading\": \"mean\",\n",
    "    \"% Overall Passing Rate\": \"mean\"\n",
    "})\n",
    "\n",
    "#school_type_results"
   ]
  },
  {
   "cell_type": "code",
   "execution_count": 51,
   "metadata": {},
   "outputs": [],
   "source": [
    "# Save a different copy for formatting\n",
    "type_results = school_type_results[[\n",
    "    \"Average Math Score\",\n",
    "    \"Average Reading Score\",\n",
    "    \"% Passing Math\",\n",
    "    \"% Passing Reading\",\n",
    "    \"% Overall Passing Rate\"\n",
    "]]"
   ]
  },
  {
   "cell_type": "code",
   "execution_count": 52,
   "metadata": {},
   "outputs": [
    {
     "data": {
      "text/html": [
       "<style  type=\"text/css\" >\n",
       "</style><table id=\"T_ba8d7b30_c600_11e9_b7e0_a45e60b99ee9\" ><thead>    <tr>        <th class=\"blank level0\" ></th>        <th class=\"col_heading level0 col0\" >Average Math Score</th>        <th class=\"col_heading level0 col1\" >Average Reading Score</th>        <th class=\"col_heading level0 col2\" >% Passing Math</th>        <th class=\"col_heading level0 col3\" >% Passing Reading</th>        <th class=\"col_heading level0 col4\" >% Overall Passing Rate</th>    </tr>    <tr>        <th class=\"index_name level0\" >School Type</th>        <th class=\"blank\" ></th>        <th class=\"blank\" ></th>        <th class=\"blank\" ></th>        <th class=\"blank\" ></th>        <th class=\"blank\" ></th>    </tr></thead><tbody>\n",
       "                <tr>\n",
       "                        <th id=\"T_ba8d7b30_c600_11e9_b7e0_a45e60b99ee9level0_row0\" class=\"row_heading level0 row0\" >Charter</th>\n",
       "                        <td id=\"T_ba8d7b30_c600_11e9_b7e0_a45e60b99ee9row0_col0\" class=\"data row0 col0\" >83.47</td>\n",
       "                        <td id=\"T_ba8d7b30_c600_11e9_b7e0_a45e60b99ee9row0_col1\" class=\"data row0 col1\" >83.90</td>\n",
       "                        <td id=\"T_ba8d7b30_c600_11e9_b7e0_a45e60b99ee9row0_col2\" class=\"data row0 col2\" >93.62</td>\n",
       "                        <td id=\"T_ba8d7b30_c600_11e9_b7e0_a45e60b99ee9row0_col3\" class=\"data row0 col3\" >96.59</td>\n",
       "                        <td id=\"T_ba8d7b30_c600_11e9_b7e0_a45e60b99ee9row0_col4\" class=\"data row0 col4\" >95.10</td>\n",
       "            </tr>\n",
       "            <tr>\n",
       "                        <th id=\"T_ba8d7b30_c600_11e9_b7e0_a45e60b99ee9level0_row1\" class=\"row_heading level0 row1\" >District</th>\n",
       "                        <td id=\"T_ba8d7b30_c600_11e9_b7e0_a45e60b99ee9row1_col0\" class=\"data row1 col0\" >76.96</td>\n",
       "                        <td id=\"T_ba8d7b30_c600_11e9_b7e0_a45e60b99ee9row1_col1\" class=\"data row1 col1\" >80.97</td>\n",
       "                        <td id=\"T_ba8d7b30_c600_11e9_b7e0_a45e60b99ee9row1_col2\" class=\"data row1 col2\" >66.55</td>\n",
       "                        <td id=\"T_ba8d7b30_c600_11e9_b7e0_a45e60b99ee9row1_col3\" class=\"data row1 col3\" >80.80</td>\n",
       "                        <td id=\"T_ba8d7b30_c600_11e9_b7e0_a45e60b99ee9row1_col4\" class=\"data row1 col4\" >73.67</td>\n",
       "            </tr>\n",
       "    </tbody></table>"
      ],
      "text/plain": [
       "<pandas.io.formats.style.Styler at 0x11ca11390>"
      ]
     },
     "execution_count": 52,
     "metadata": {},
     "output_type": "execute_result"
    }
   ],
   "source": [
    "type_results.style.format({\n",
    "    \"Average Math Score\": '{:.2f}',\n",
    "    \"Average Reading Score\": '{:.2f}',\n",
    "    \"% Passing Math\": '{:.2f}',\n",
    "    \"% Passing Reading\": '{:.2f}',\n",
    "    \"% Overall Passing Rate\": '{:.2f}'\n",
    "})"
   ]
  },
  {
   "cell_type": "code",
   "execution_count": null,
   "metadata": {},
   "outputs": [],
   "source": []
  },
  {
   "cell_type": "code",
   "execution_count": null,
   "metadata": {},
   "outputs": [],
   "source": []
  }
 ],
 "metadata": {
  "anaconda-cloud": {},
  "kernel_info": {
   "name": "python3"
  },
  "kernelspec": {
   "display_name": "Conda [PythonData]",
   "language": "python",
   "name": "pythondata"
  },
  "language_info": {
   "codemirror_mode": {
    "name": "ipython",
    "version": 3
   },
   "file_extension": ".py",
   "mimetype": "text/x-python",
   "name": "python",
   "nbconvert_exporter": "python",
   "pygments_lexer": "ipython3",
   "version": "3.7.3"
  },
  "latex_envs": {
   "LaTeX_envs_menu_present": true,
   "autoclose": false,
   "autocomplete": true,
   "bibliofile": "biblio.bib",
   "cite_by": "apalike",
   "current_citInitial": 1,
   "eqLabelWithNumbers": true,
   "eqNumInitial": 1,
   "hotkeys": {
    "equation": "Ctrl-E",
    "itemize": "Ctrl-I"
   },
   "labels_anchors": false,
   "latex_user_defs": false,
   "report_style_numbering": false,
   "user_envs_cfg": false
  },
  "nteract": {
   "version": "0.8.4"
  }
 },
 "nbformat": 4,
 "nbformat_minor": 1
}
